{
 "cells": [
  {
   "cell_type": "markdown",
   "metadata": {},
   "source": [
    "# MATH 360 Modelling Assignment 1"
   ]
  },
  {
   "cell_type": "markdown",
   "metadata": {},
   "source": [
    "**Variables and Parameters**\n",
    "\n",
    "### **Variables and Parameters**\n",
    "\n",
    "| Description | Symbol | Dimension | Type |\n",
    "| :---: | :---: | :---: | :---: |\n",
    "| Mass of toxin in Lake Superior | $M_s$ | M | dependent variable |\n",
    "| Mass of toxin in Lake Michigan | $M_m$ | M | dependent variable |\n",
    "| Mass of toxin in Lake Huron | $M_h$ | M | dependent variable |\n",
    "| Mass of toxin in Lake Erie | $M_e$ | M | dependent variable |\n",
    "| Mass of toxin in Lake Ontario | $M_o$ | M | dependent variable |\n",
    "| Time | $t$ | T | independent variable |\n",
    "| Volume of solution in Lake Superior | $V_s$ | L<sup>3</sup> | parameter |\n",
    "| Volume of solution in Lake Michigan | $V_m$ | L<sup>3</sup> | parameter |\n",
    "| Volume of solution in Lake Huron | $V_h$ | L<sup>3</sup> | parameter |\n",
    "| Volume of solution in Lake Erie | $V_e$ | L<sup>3</sup> | parameter |\n",
    "| Volume of solution in Lake Ontario | $V_o$ | L<sup>3</sup> | parameter |\n",
    "| Flow rate from Lake Superior to Lake Huron | $Q_{sh}$ | L<sup>3</sup> T<sup>-1</sup> | parameter |\n",
    "| Flow rate from Lake Huron to Lake Erie | $Q_{he}$ | L<sup>3</sup> T<sup>-1</sup> | parameter |\n",
    "| Flow rate from Lake Erie to Lake Ontario | $Q_{eo}$ | L<sup>3</sup> T<sup>-1</sup> | parameter |\n",
    "| Flow rate from Lake Ontario to St. Lawrence River | $Q_{or}$ | L<sup>3</sup> T<sup>-1</sup> | parameter |\n",
    "| Initial mass of toxin in Lake Superior | $M_{s,0}$ | M | parameter |\n",
    "| Initial mass of toxin in Lake Michigan | $M_{m,0}$ | M | parameter |\n",
    "| Initial mass of toxin in Lake Huron | $M_{h,0}$ | M | parameter |\n",
    "| Initial mass of toxin in Lake Erie | $M_{e,0}$ | M | parameter |\n",
    "| Initial mass of toxin in Lake Ontario | $M_{o,0}$ | M | parameter |\n",
    "\n",
    "**Assumptions and Constraints**\n",
    "\n",
    "- New toxin instantly mixes in the tanks\n",
    "- Constant flow rate\n",
    "- Constant volume\n",
    "- Toxin is well mixed\n",
    "- No water evaporates or leaks out\n",
    "- The rivers are treated as simple tube"
   ]
  },
  {
   "cell_type": "code",
   "execution_count": null,
   "metadata": {},
   "outputs": [],
   "source": []
  }
 ],
 "metadata": {
  "kernelspec": {
   "display_name": "Python 3 (ipykernel)",
   "language": "python",
   "name": "python3"
  },
  "language_info": {
   "codemirror_mode": {
    "name": "ipython",
    "version": 3
   },
   "file_extension": ".py",
   "mimetype": "text/x-python",
   "name": "python",
   "nbconvert_exporter": "python",
   "pygments_lexer": "ipython3",
   "version": "3.11.5"
  }
 },
 "nbformat": 4,
 "nbformat_minor": 4
}
