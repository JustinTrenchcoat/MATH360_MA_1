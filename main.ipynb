{
 "cells": [
  {
   "cell_type": "markdown",
   "metadata": {},
   "source": [
    "# MATH 360 Modelling Assignment 1"
   ]
  },
  {
   "cell_type": "markdown",
   "metadata": {},
   "source": [
    "Group Members: Jiaming Chang, Michael Tumbelaka, Qianluo Zhu, Reynaldi Aditama"
   ]
  },
  {
   "cell_type": "markdown",
   "metadata": {},
   "source": [
    "### **Problem Statement**\n",
    "Determine the mass of toxins in each of the five Great Lake as a function of time"
   ]
  },
  {
   "cell_type": "markdown",
   "metadata": {},
   "source": [
    "<br/>"
   ]
  },
  {
   "cell_type": "markdown",
   "metadata": {},
   "source": [
    "### **Variables and Parameters**\n",
    "\n",
    "| Description | Symbol | Dimension | Type |\n",
    "| :---: | :---: | :---: | :---: |\n",
    "| Mass of toxin in Lake Superior | $M_s$ | M | dependent variable |\n",
    "| Mass of toxin in Lake Michigan | $M_m$ | M | dependent variable |\n",
    "| Mass of toxin in Lake Huron | $M_h$ | M | dependent variable |\n",
    "| Mass of toxin in Lake Erie | $M_e$ | M | dependent variable |\n",
    "| Mass of toxin in Lake Ontario | $M_o$ | M | dependent variable |\n",
    "| Time | $t$ | T | independent variable |\n",
    "| Volume of solution in Lake Superior | $V_s$ | L<sup>3</sup> | parameter |\n",
    "| Volume of solution in Lake Michigan | $V_m$ | L<sup>3</sup> | parameter |\n",
    "| Volume of solution in Lake Huron | $V_h$ | L<sup>3</sup> | parameter |\n",
    "| Volume of solution in Lake Erie | $V_e$ | L<sup>3</sup> | parameter |\n",
    "| Volume of solution in Lake Ontario | $V_o$ | L<sup>3</sup> | parameter |\n",
    "| Volume of rainfall | $V_r$ | L<sup>3</sup> T<sup>-1</sup> | parameter |\n",
    "| Volume of snow | $V_{sn}$ | L<sup>3</sup> T<sup>-1</sup> | parameter |\n",
    "| Flow rate from Lake Superior to Lake Huron | $Q_{sh}$ | L<sup>3</sup> T<sup>-1</sup> | parameter |\n",
    "| Flow rate from Lake Michigan to Lake Huron through Mackinac Strait | $Q_{mh}$ | L<sup>3</sup> T<sup>-1</sup> | parameter |\n",
    "| Flow rate from Lake Huron to Lake Michigan through Mackinac Strait | $Q_{hm}$ | L<sup>3</sup> T<sup>-1</sup> | parameter |\n",
    "| Flow rate from Lake Huron to Lake Erie | $Q_{he}$ | L<sup>3</sup> T<sup>-1</sup> | parameter |\n",
    "| Flow rate from Lake Erie to Lake Ontario | $Q_{eo}$ | L<sup>3</sup> T<sup>-1</sup> | parameter |\n",
    "| Flow rate from Lake Ontario to St. Lawrence River | $Q_{or}$ | L<sup>3</sup> T<sup>-1</sup> | parameter |\n",
    "| Rate of toxin input from various cities to Lake Superior | $I_{s}$ | M T<sup>-1</sup> | parameter |\n",
    "| Rate of toxin input from various cities to Lake Michigan | $I_{m}$ | M T<sup>-1</sup> | parameter |\n",
    "| Rate of toxin input from various cities to Lake Huron | $I_{h}$ | M T<sup>-1</sup> | parameter |\n",
    "| Rate of toxin input from various cities to Lake Erie | $I_{e}$ | M T<sup>-1</sup> | parameter |\n",
    "| Rate of toxin input from various cities to Lake Ontario | $I_{o}$ | M T<sup>-1</sup> | parameter |\n",
    "| Initial mass of toxin in Lake Superior | $M_{s,0}$ | M | parameter |\n",
    "| Initial mass of toxin in Lake Michigan | $M_{m,0}$ | M | parameter |\n",
    "| Initial mass of toxin in Lake Huron | $M_{h,0}$ | M | parameter |\n",
    "| Initial mass of toxin in Lake Erie | $M_{e,0}$ | M | parameter |\n",
    "| Initial mass of toxin in Lake Ontario | $M_{o,0}$ | M | parameter |"
   ]
  },
  {
   "cell_type": "markdown",
   "metadata": {},
   "source": [
    "<br/>"
   ]
  },
  {
   "cell_type": "markdown",
   "metadata": {},
   "source": [
    "### **Assumptions and Constraints**\n",
    "#### Assumptions:\n",
    "- New toxin instantly mixes in the lakes\n",
    "- Toxin is well-mixed\n",
    "- No water evaporates or leaks out (closed system)\n",
    "- The rivers are treated as a simple tube\n",
    "- Neglect other bodies of water aside from the Five Great Lakes\n",
    "- We would always have fresh water influx for every Great Lakes\n",
    "- No toxins removal procedure\n",
    "- All toxins go to the next body of water except for Lake Erie, 50% to Niagara River and 50% to Lake Ontario\n",
    "#### Constraints:\n",
    "- Constant rainfall, snow, and other river inflow rate\n",
    "- Constant outflux rate \n",
    "- Lakes have a constant volume"
   ]
  },
  {
   "cell_type": "markdown",
   "metadata": {},
   "source": [
    "<br/>"
   ]
  },
  {
   "cell_type": "markdown",
   "metadata": {},
   "source": [
    "### **Build Solutions**\n",
    "\n",
    "#### Governing Equation From Mass Balance Equation and Law of Conservation Mass\n",
    "\n",
    "\\begin{align*}\n",
    "\\frac{dM}{dt} &= Q_{in} - Q_{out} \\\\\n",
    "\\end{align*}\n",
    "\n",
    "where:\n",
    "- $M(t)$ is the mass in the system over time $t$\n",
    "- $Q_{in}$ is the mass flow rate into the system with dimensions MT<sup>-1</sup>\n",
    "- $Q_{out}$ is the mass flow rate out of the system with dimensions MT<sup>-1</sup>\n",
    "\n",
    "**Cited from: MATH 360 course notes - Mass Balance - Conservation of Mass**"
   ]
  },
  {
   "cell_type": "markdown",
   "metadata": {},
   "source": [
    "<br/>"
   ]
  },
  {
   "cell_type": "markdown",
   "metadata": {},
   "source": [
    "#### System of ODE from Applying Mass Balance Equation to each lake\n",
    "\n",
    "\\begin{align*}\n",
    "\\frac{dM_s}{dt} &= I_s - \\frac{Q_{sh} M_s}{V_h + V_{sn} + V_r} \\\\\n",
    "\\frac{dM_m}{dt} &= I_m + \\frac{Q_{hm} M_h}{V_h + V_{sn} + V_r} - \\frac{Q_{mh} M_m}{V_m + V_{sn} + V_r} \\\\\n",
    "\\end{align*}"
   ]
  },
  {
   "cell_type": "markdown",
   "metadata": {},
   "source": [
    "<br/>"
   ]
  },
  {
   "cell_type": "markdown",
   "metadata": {},
   "source": [
    "#### Nondimensionalization and Scaling"
   ]
  },
  {
   "cell_type": "markdown",
   "metadata": {},
   "source": [
    "<br/>"
   ]
  },
  {
   "cell_type": "markdown",
   "metadata": {},
   "source": [
    "### Analyze and Assess"
   ]
  },
  {
   "cell_type": "markdown",
   "metadata": {},
   "source": [
    "<br/>"
   ]
  },
  {
   "cell_type": "markdown",
   "metadata": {},
   "source": [
    "### Conclusion and Report"
   ]
  },
  {
   "cell_type": "markdown",
   "metadata": {},
   "source": [
    "<br/>"
   ]
  }
 ],
 "metadata": {
  "kernelspec": {
   "display_name": "Python 3 (ipykernel)",
   "language": "python",
   "name": "python3"
  },
  "language_info": {
   "codemirror_mode": {
    "name": "ipython",
    "version": 3
   },
   "file_extension": ".py",
   "mimetype": "text/x-python",
   "name": "python",
   "nbconvert_exporter": "python",
   "pygments_lexer": "ipython3",
   "version": "3.11.5"
  }
 },
 "nbformat": 4,
 "nbformat_minor": 4
}
