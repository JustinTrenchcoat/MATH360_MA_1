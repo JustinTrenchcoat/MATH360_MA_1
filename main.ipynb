{
 "cells": [
  {
   "cell_type": "markdown",
   "metadata": {},
   "source": [
    "# MATH 360 Modelling Assignment 1"
   ]
  },
  {
   "cell_type": "markdown",
   "metadata": {},
   "source": [
    "Group Members: Jiaming Chang, Michael Tumbelaka, Qianluo Zhu, Reynaldi Aditama"
   ]
  },
  {
   "cell_type": "code",
   "execution_count": 5,
   "metadata": {},
   "outputs": [],
   "source": [
    "import numpy as np\n",
    "import matplotlib.pyplot as plt\n",
    "import scipy.integrate as spi"
   ]
  },
  {
   "cell_type": "markdown",
   "metadata": {},
   "source": [
    "### **Problem Statement**\n",
    "Determine the mass of toxins in each of the five Great Lake as a function of time"
   ]
  },
  {
   "cell_type": "markdown",
   "metadata": {},
   "source": [
    "<br/>"
   ]
  },
  {
   "cell_type": "markdown",
   "metadata": {},
   "source": [
    "### **Variables and Parameters**\n",
    "\n",
    "| Description | Symbol | Dimension | Type |\n",
    "| :---: | :---: | :---: | :---: |\n",
    "| Mass of toxin in Lake Superior | $M_s$ | M | dependent variable |\n",
    "| Mass of toxin in Lake Michigan | $M_m$ | M | dependent variable |\n",
    "| Mass of toxin in Lake Huron | $M_h$ | M | dependent variable |\n",
    "| Mass of toxin in Lake Erie | $M_e$ | M | dependent variable |\n",
    "| Mass of toxin in Lake Ontario | $M_o$ | M | dependent variable |\n",
    "| Time | $t$ | T | independent variable |\n",
    "| Volume of solution in Lake Superior | $V_s$ | L<sup>3</sup> | parameter |\n",
    "| Volume of solution in Lake Michigan | $V_m$ | L<sup>3</sup> | parameter |\n",
    "| Volume of solution in Lake Huron | $V_h$ | L<sup>3</sup> | parameter |\n",
    "| Volume of solution in Lake Erie | $V_e$ | L<sup>3</sup> | parameter |\n",
    "| Volume of solution in Lake Ontario | $V_o$ | L<sup>3</sup> | parameter |\n",
    "| Volume of rainfall | $V_r$ | L<sup>3</sup> T<sup>-1</sup> | parameter |\n",
    "| Volume of snow | $V_{sn}$ | L<sup>3</sup> T<sup>-1</sup> | parameter |\n",
    "| Flow rate from Lake Superior to Lake Huron | $Q_{sh}$ | L<sup>3</sup> T<sup>-1</sup> | parameter |\n",
    "| Flow rate from Lake Michigan to Lake Huron through Mackinac Strait | $Q_{mh}$ | L<sup>3</sup> T<sup>-1</sup> | parameter |\n",
    "| Flow rate from Lake Huron to Lake Michigan through Mackinac Strait | $Q_{hm}$ | L<sup>3</sup> T<sup>-1</sup> | parameter |\n",
    "| Flow rate from Lake Huron to Lake Erie | $Q_{he}$ | L<sup>3</sup> T<sup>-1</sup> | parameter |\n",
    "| Flow rate from Lake Erie to Lake Ontario | $Q_{eo}$ | L<sup>3</sup> T<sup>-1</sup> | parameter |\n",
    "| Flow rate from Lake Ontario to St. Lawrence River | $Q_{or}$ | L<sup>3</sup> T<sup>-1</sup> | parameter |\n",
    "| Rate of toxin input from various cities to Lake Superior | $I_{s}$ | M T<sup>-1</sup> | parameter |\n",
    "| Rate of toxin input from various cities to Lake Michigan | $I_{m}$ | M T<sup>-1</sup> | parameter |\n",
    "| Rate of toxin input from various cities to Lake Huron | $I_{h}$ | M T<sup>-1</sup> | parameter |\n",
    "| Rate of toxin input from various cities to Lake Erie | $I_{e}$ | M T<sup>-1</sup> | parameter |\n",
    "| Rate of toxin input from various cities to Lake Ontario | $I_{o}$ | M T<sup>-1</sup> | parameter |\n",
    "| Initial mass of toxin in Lake Superior | $M_{s,0}$ | M | parameter |\n",
    "| Initial mass of toxin in Lake Michigan | $M_{m,0}$ | M | parameter |\n",
    "| Initial mass of toxin in Lake Huron | $M_{h,0}$ | M | parameter |\n",
    "| Initial mass of toxin in Lake Erie | $M_{e,0}$ | M | parameter |\n",
    "| Initial mass of toxin in Lake Ontario | $M_{o,0}$ | M | parameter |"
   ]
  },
  {
   "cell_type": "markdown",
   "metadata": {},
   "source": [
    "<br/>"
   ]
  },
  {
   "cell_type": "markdown",
   "metadata": {},
   "source": [
    "### **Assumptions and Constraints**\n",
    "#### Assumptions:\n",
    "- New toxin instantly mixes in the lakes\n",
    "- Toxin is well-mixed\n",
    "- No water evaporates or leaks out (closed system)\n",
    "- The rivers are treated as a simple tube\n",
    "- Neglect other bodies of water aside from the Five Great Lakes, Lake St.Clair is also treated as a river and no waste was dumped into it.\n",
    "- We would always have fresh water influx for every Great Lakes\n",
    "- No toxins removal procedure\n",
    "\n",
    "#### Constraints:\n",
    "- Constant rainfall, snow, and other river inflow rate\n",
    "- Constant outflux rate \n",
    "- Lakes have a constant volume"
   ]
  },
  {
   "cell_type": "markdown",
   "metadata": {},
   "source": [
    "<br/>"
   ]
  },
  {
   "cell_type": "markdown",
   "metadata": {},
   "source": [
    "### **Build Solutions**\n",
    "\n",
    "#### Governing Equation From Mass Balance Equation and Law of Conservation Mass\n",
    "\n",
    "\\begin{align*}\n",
    "\\frac{dM}{dt} &= Q_{in} - Q_{out} \\\\\n",
    "\\end{align*}\n",
    "\n",
    "where:\n",
    "- $M(t)$ is the mass in the system over time $t$\n",
    "- $Q_{in}$ is the mass flow rate into the system with dimensions MT<sup>-1</sup>\n",
    "- $Q_{out}$ is the mass flow rate out of the system with dimensions MT<sup>-1</sup>\n",
    "\n",
    "**Cited from: MATH 360 course notes - Mass Balance - Conservation of Mass**"
   ]
  },
  {
   "cell_type": "markdown",
   "metadata": {},
   "source": [
    "<br/>"
   ]
  },
  {
   "cell_type": "markdown",
   "metadata": {},
   "source": [
    "#### System of ODE from Applying Mass Balance Equation to each lake\n",
    "\n",
    "\\begin{align*}\n",
    "\\frac{dM_s}{dt} &= I_s - \\frac{Q_{sh} M_s}{V_s + V_{sn} + V_r} \\\\\n",
    "\\frac{dM_m}{dt} &= I_m + \\frac{Q_{hm} M_h}{V_h + V_{sn} + V_r} - \\frac{Q_{mh} M_m}{V_m + V_{sn} + V_r} \\\\\n",
    "\\frac{dM_h}{dt} &= I_h + \\frac{Q_{sh} M_s}{V_s + V_{sn} + V_r} + \\frac{Q_{mh} M_m}{V_m + V_{sn} + V_r} - \\frac{Q_{he} M_h}{V_h + V_{sn} + V_r} - \\frac{Q_{hm} M_h}{V_h + V_{sn} + V_r} \\\\\n",
    "\\frac{dM_e}{dt} &= I_e + \\frac{Q_{he} M_h}{V_h + V_{sn} + V_r} - \\frac{Q_{eo} M_e}{V_e + V_{sn} + V_r} \\\\\n",
    "\\frac{dM_o}{dt} &= I_o + \\frac{Q_{eo} M_e}{V_e + V_{sn} + V_r} - \\frac{Q_{or} M_o}{V_o + V_{sn} + V_r} \\\\\n",
    "M_s(0) &= M_{s, 0} \\\\\n",
    "M_m(0) &= M_{m, 0} \\\\\n",
    "M_h(0) &= M_{h, 0} \\\\\n",
    "M_e(0) &= M_{e, 0} \\\\\n",
    "M_o(0) &= M_{o, 0} \\\\\n",
    "\\end{align*}"
   ]
  },
  {
   "cell_type": "markdown",
   "metadata": {},
   "source": [
    "#### Nondimensionalization and Scaling\n",
    "\n",
    "Let $M_s = [M_s]M_s^*, M_m = [M_m]M_m^*, M_h = [M_h]M_h^*, M_e = [M_e]M_e^*, M_o = [M_o]M_o^*,$ and $t = [t]t^*$. \n",
    "\n",
    "\\begin{align*}\n",
    "\\frac{[M_s]dM_s^*}{[t]dt*}  &= I_s - \\frac{Q_{sh} [M_s]M_s^*}{V_s + V_{sn} + V_r} \\\\\n",
    "\\frac{[M_m]dM_m^*}{[t]dt*}  &= I_m + \\frac{Q_{hm} [M_h]M_h^*}{V_h + V_{sn} + V_r} - \\frac{Q_{mh} [M_m]M_m^*}{V_m + V_{sn} + V_r} \\\\\n",
    "\\frac{[M_h]dM_h^*}{[t]dt^*} &= I_h + \\frac{Q_{sh} [M_s]M_s^*}{V_s + V_{sn} + V_r} + \\frac{Q_{mh} [M_m]M_m^*}{V_m + V_{sn} + V_r} - \\frac{Q_{he} [M_h]M_h^*}{V_h + V_{sn} + V_r} - \\frac{Q_{hm} [M_h]M_h^*}{V_h + V_{sn} + V_r} \\\\\n",
    "\\frac{[M_e]dM_e^*}{[t]dt^*} &= I_e + \\frac{Q_{he} [M_h]M_h^*}{V_h + V_{sn} + V_r} - \\frac{Q_{eo} [M_e]M_e^*}{V_e + V_{sn} + V_r} \\\\\n",
    "\\frac{[M_0]dM_o^*}{[t]dt^*} &= I_o + \\frac{Q_{eo} [M_e]M_e^*}{V_e + V_{sn} + V_r} - \\frac{Q_{or} [M_o]M_o^*}{V_o + V_{sn} + V_r} \\\\\n",
    "[M_s]M_s(0)^* &= M_{s, 0} \\\\\n",
    "[M_m]M_m(0)^* &= M_{m, 0} \\\\\n",
    "[M_h]M_h(0)^* &= M_{h, 0} \\\\\n",
    "[M_e]M_e(0)^* &= M_{e, 0} \\\\\n",
    "[M_o]M_o(0)^* &= M_{o, 0} \\\\\n",
    "\\end{align*}\n",
    "\n",
    "Divide by the derivative coefficient in each equation,\n",
    "\n",
    "\\begin{align*}\n",
    "\\frac{dM_s^*}{dt^*} &= \\frac{I_s[t]}{[M_s]} - \\frac{Q_{sh} [t]M_s^*}{V_s + V_{sn} + V_r} \\\\\n",
    "\\frac{dM_m^*}{dt^*} &= \\frac{I_m[t]}{[M_m]} + \\frac{Q_{hm} [t][M_h]M_h^*}{[M_m](V_h + V_{sn} + V_r)} - \\frac{Q_{mh} [t]M_m^*}{V_m + V_{sn} + V_r} \\\\\n",
    "\\frac{dM_h^*}{dt^*} &= \\frac{I_h[t]}{[M_h]} + \\frac{Q_{sh} [t][M_s]M_s^*}{[M_h](V_s + V_{sn} + V_r)} + \\frac{Q_{mh} [t][M_m]M_m^*}{[M_h](V_m + V_{sn} + V_r)} - \\frac{Q_{he} [t]M_h^*}{V_h + V_{sn} + V_r} - \\frac{Q_{hm} [t]M_h^*}{V_h + V_{sn} + V_r} \\\\\n",
    "\\frac{dM_e^*}{dt^*} &= \\frac{I_e[t]}{[M_e]} + \\frac{Q_{he} [M_h][t]M_h^*}{[M_e](V_h + V_{sn} + V_r)} - \\frac{Q_{eo} [t]M_e^*}{V_e + V_{sn} + V_r} \\\\\n",
    "\\frac{dM_o^*}{dt^*} &= \\frac{I_o[t]}{[M_o]} + \\frac{Q_{eo} [M_e][t]M_e^*}{[M_o](V_e + V_{sn} + V_r)} - \\frac{Q_{or} [t]M_o^*}{V_o + V_{sn} + V_r} \\\\\n",
    "\\end{align*}\n",
    "\n",
    "\\begin{align*}\n",
    "M_s(0)^* &= \\frac{M_{s, 0}}{[M_s]} \\\\\n",
    "M_m(0)^* &= \\frac{M_{m, 0}}{[M_m]} \\\\\n",
    "M_h(0)^* &= \\frac{M_{h, 0}}{[M_h]} \\\\\n",
    "M_e(0)^* &= \\frac{M_{e, 0}}{[M_e]} \\\\\n",
    "M_o(0)^* &= \\frac{M_{o, 0}}{[M_o]} \\\\\n",
    "\\end{align*}\n",
    "\n",
    "Get scaling factor,\n",
    "\n",
    "\\begin{align*}\n",
    "[t] &= \\frac{V_h +V_f}{Q_{he}} \\\\\n",
    "[M_s] &= \\frac{I_s(V_h + V_f)}{Q_{he}} \\\\\n",
    "[M_m] &= \\frac{Q_{hm} Q_{sh} (V_h+V_f)^{2} I_s}{Q_{he}^{3} (V_s+V_f)}\\\\\n",
    "[M_h] &= \\frac{Q_{sh} (V_h+V_f)^{2} I_s}{Q_{he}^{2} (V_s+V_f)}\\\\\n",
    "[M_e] &= \\frac{Q_{sh} (V_h+V_f)^{2} I_s}{Q_{he}^{2} (V_s+V_f)}\\\\\n",
    "[M_m] &= \\frac{Q_{eo} Q_{sh} (V_h+V_f)^{3} I_s}{Q_{he}^{3} (V_s+V_f) (V_e+V_f)}\n",
    "\\end{align*}\n",
    "\n",
    "\n",
    "Write the system in terms of the new dimensionless variables and parameters to get:\n",
    "\\begin{align*}\n",
    "\\frac{dM_s^*}{dt^*} &= 1 - \\frac{Q_{sh} (V_h+V_f)M_s^*}{Q_{he}(V_s + V_{f})} \\\\\n",
    "\\frac{dM_m^*}{dt^*} &= \\frac{I_m Q_{he}^{2} (V_s+V_f)}{Q_{hm} Q_{sh} I_s (V_h+V_f)} + \\frac{M_h^*}{1} - \\frac{Q_{mh} (V_h+V_f)M_m^*}{Q_{he} (V_m + V_{f})} \\\\\n",
    "\\frac{dM_h^*}{dt^*} &= \\frac{I_h Q_{he} (V_s+V_f)}{I_s Q_{sh} (V_h+V_f)} + \\frac{M_s^*}{1} + \\frac{Q_{mh} Q_{hm} (V_h+V_f) M_m^*}{Q_{he}^2 (V_m + V_f)} - \\frac{M_h^*}{1} - \\frac{Q_{hm}M_h^*}{Q_{he}} \\\\\n",
    "\\frac{dM_e^*}{dt^*} &= \\frac{I_e Q_{he} (V_s+V_f)}{I_s Q_{sh} (V_h+V_f)} + \\frac{M_h^*}{1} - \\frac{Q_{eo} (V_h+V_f) M_e^*}{Q_{he} (V_e + V_f)} \\\\\n",
    "\\frac{dM_o^*}{dt^*} &= \\frac{I_o Q_{he}^{2} (V_e+V_f) (V_s+V_f)}{I_s (V_h+V_f)^{2} Q_{eo} Q_{sh}} + \\frac{M_e^*}{1} - \\frac{Q_{or} (V_h+V_f) M_o^*}{Q_{he} (V_o + V_f)} \\\\\n",
    "M_s(0)^* &= \\frac{M_{s, 0} Q_{he}}{I_s(V_h + V_f)} \\\\ \n",
    "M_m(0)^* &= \\frac{M_{m, 0} Q_{he}^{3} (V_s+V_f)}{Q_{hm} Q_{sh} (V_h+V_f)^{2} I_s} \\\\\n",
    "M_h(0)^* &= \\frac{M_{h, 0} Q_{he}^{2} (V_s+V_f)}{Q_{sh} (V_h+V_f)^{2} I_s} \\\\\n",
    "M_e(0)^* &= \\frac{M_{e, 0} Q_{he}^{2} (V_s+V_f)}{Q_{sh} (V_h+V_f)^{2} I_s} \\\\\n",
    "M_o(0)^* &= \\frac{M_{o, 0} Q_{he}^{3} (V_s+V_f) (V_e+V_f)}{Q_{eo} Q_{sh} (V_h+V_f)^{3} I_s} \\\\\n",
    "\\end{align*}\n"
   ]
  },
  {
   "cell_type": "markdown",
   "metadata": {},
   "source": [
    "<br/>"
   ]
  },
  {
   "cell_type": "markdown",
   "metadata": {},
   "source": [
    "### Analyze and Assess"
   ]
  },
  {
   "cell_type": "code",
   "execution_count": 20,
   "metadata": {},
   "outputs": [],
   "source": [
    "#parameter\n",
    "Q_sh = 1\n",
    "Q_mh = 1\n",
    "Q_hm = 1\n",
    "Q_he = 1\n",
    "Q_eo = 1\n",
    "Q_or = 1\n",
    "\n",
    "V_s = 1\n",
    "V_m = 1\n",
    "V_h = 1\n",
    "V_e = 1\n",
    "V_o = 1\n",
    "V_r = 1\n",
    "V_sn = 1\n",
    "V_f = V_r + V_sn\n",
    "\n",
    "I_s = 1\n",
    "I_m = 1\n",
    "I_h = 1\n",
    "I_e = 1\n",
    "I_o = 1\n",
    "\n",
    "M_s0 = 1\n",
    "M_m0 = 5\n",
    "M_h0 = 1\n",
    "M_e0 = 1\n",
    "M_o0 = 1"
   ]
  },
  {
   "cell_type": "code",
   "execution_count": 21,
   "metadata": {
    "scrolled": true
   },
   "outputs": [
    {
     "data": {
      "image/png": "[encoded data removed]",
      "text/plain": [
       "<Figure size 640x480 with 1 Axes>"
      ]
     },
     "metadata": {},
     "output_type": "display_data"
    }
   ],
   "source": [
    "#template\n",
    "# M[0] = M_s, M[1] = M_m, M[2] = M_h, M[3] = M_e, M[4] = M_o\n",
    "def f(M,t):\n",
    "    dMdt = np.array([0.,0.,0.,0.,0.])\n",
    "    dMdt[0] = 1 - (Q_sh * (V_h + V_f) * M[0])/(Q_he * (V_s + V_f))\n",
    "    dMdt[1] = (I_m * Q_he**2 * (V_s + V_f))/(Q_hm * Q_sh * I_s * (V_h + V_f))+M[2]- (Q_mh * (V_h + V_f) * M[1])/(Q_he * (V_m + V_f))  \n",
    "    dMdt[2] = (I_h * Q_he * (V_s + V_f))/(Q_sh * I_s * (V_h + V_f))+M[0]-(Q_mh * Q_hm * (V_h + V_f) * M[1])/(Q_he**2 * (V_m + V_f)) -M[2]- (Q_hm * M[2])/Q_he\n",
    "    dMdt[3] = (I_e * Q_he * (V_s + V_f))/(Q_sh * I_s * (V_h + V_f)) + M[2] -(Q_eo * (V_h + V_f)* M[3])/(Q_he * (V_e + V_f))\n",
    "    dMdt[4] = (I_o * Q_he * (V_e + V_f) * (V_s + V_f))/(I_s * (V_h + V_f)**2 * Q_eo * Q_sh)+M[3]- (Q_or * (V_h + V_f)* M[4])/(Q_he * (V_o + V_f))\n",
    "    \n",
    "    return dMdt\n",
    "    \n",
    "#initial condition\n",
    "M0 = [(M_s0 * Q_he)/(I_s*(V_h + V_f)),\n",
    "      (M_m0 * Q_he**3 * (V_s+ V_f))/(Q_hm*Q_sh*(V_h + V_f)**2 * I_s),\n",
    "      (M_h0 * Q_he**2 * (V_s+ V_f))/(Q_sh*(V_h + V_f)**2 * I_s),\n",
    "      (M_e0 * Q_he**2 * (V_s+ V_f))/(Q_sh*(V_h + V_f)**2 * I_s),\n",
    "      (M_o0 * Q_he**3 * (V_s+ V_f)*(V_e+ V_f))/(Q_eo*Q_sh*(V_h + V_f)**3* I_s)]\n",
    "#time vector\n",
    "t = np.linspace(0,10,100)\n",
    "#DE solution\n",
    "M = spi.odeint(f,M0,t)\n",
    "\n",
    "\n",
    "\n",
    "#plot \n",
    "plt.plot(t,M[:,0],t,M[:,1],t,M[:,2],t,M[:,3],t,M[:,4]), plt.grid(True)\n",
    "plt.legend(['$M_s(t)$','$M_m(t)$','$M_h(t)$','$M_e(t)$','$M_o(t)$'])\n",
    "plt.xlabel('$t^*$')\n",
    "plt.ylabel('$M^*$')\n",
    "plt.show()"
   ]
  },
  {
   "cell_type": "markdown",
   "metadata": {},
   "source": [
    "<br/>"
   ]
  },
  {
   "cell_type": "markdown",
   "metadata": {},
   "source": [
    "### Conclusion and Report"
   ]
  },
  {
   "cell_type": "markdown",
   "metadata": {},
   "source": [
    "<br/>"
   ]
  }
 ],
 "metadata": {
  "kernelspec": {
   "display_name": "Python 3 (ipykernel)",
   "language": "python",
   "name": "python3"
  },
  "language_info": {
   "codemirror_mode": {
    "name": "ipython",
    "version": 3
   },
   "file_extension": ".py",
   "mimetype": "text/x-python",
   "name": "python",
   "nbconvert_exporter": "python",
   "pygments_lexer": "ipython3",
   "version": "3.11.9"
  }
 },
 "nbformat": 4,
 "nbformat_minor": 4
}
